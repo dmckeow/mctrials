{
 "cells": [
  {
   "cell_type": "markdown",
   "metadata": {
    "id": "tcQ6P9eIUmvl"
   },
   "source": [
    "<h1 style=\"background-color:#ffddad;\"> <b>González Lab Workshop \n",
    "</h1>\n",
    "\n",
    "## <i class=\"fa fa-laptop\"></i> How TEs contribute to genomes sequences?\n",
    "<hr    style=\"border: 2px solid #86CBBB\">\n",
    "\n",
    "**Date**: 09/07/2025<br>\n",
    "\n",
    "**Developed by**:\n",
    "- Dr. Marta Coronado-Zamora (marta.coronado@csic.es)\n",
    "- Adrián Tarazona Sánchez (atsanchez@ibv.csic.es)\n",
    "- Dr. Simon Orozco-Arias (simon.orozco@cragenomica.es)\n",
    "\n",
    "**Supervised by**:\n",
    "- Dr. Josefa González (josefa.gonzalez@csic.es; http://gonzalezlab.eu)\n",
    "\n",
    "First edition: January 2023<br>\n",
    "Last revision: July 2025\n",
    "\n",
    "We thank Clément Goubert for the [online](https://www.clementgoubert.com/post/a-simple-pipeline-for-te-annotation-in-an-assembled-genome) _Pipeline to annotate transposable elements (TEs) in a genome assembly_ that he developed and shared with the TE community. \n",
    "<hr>"
   ]
  },
  {
   "attachments": {},
   "cell_type": "markdown",
   "metadata": {},
   "source": [
    "<div style=\"background-color:#f0f0f0;\">  \n",
    "    \n",
    "##   <i class=\"fa fa-graduation-cap\"></i> Learning outcomes\n",
    "\n",
    "1. Learn how to perform de novo annotation of transposable elements in a genome assembly using state-of-the-art methodologies: constructing and curating a TE library, annotating TE copies in a genome, and curating the annotations\n",
    "2. Master all the procedure of the manual curation using MCHelper through the new app TEammo\n",
    "3. Strengthen the use of bash commands for parsing files and obtaining insight from the data\n",
    "4. Get familiar with the structure and formats of files used to store genomic data (sequences, TE libraries and annotations)\n",
    "5. Learn how to visualize genome annotations using the genome browser JBrowse 2 \n",
    "6. Learn how to associate TE insertions with nearby genes in a genome\n",
    "\n",
    "</div>\n",
    "\n",
    "<hr>"
   ]
  },
  {
   "cell_type": "markdown",
   "metadata": {
    "tags": []
   },
   "source": [
    "# About this practical's support material: Jupyter Notebook\n",
    "\n",
    "<img style=\"padding: 0 15px; float: right;\" src=\"https://upload.wikimedia.org/wikipedia/commons/thumb/3/38/Jupyter_logo.svg/1200px-Jupyter_logo.svg.png\" width = 20%></img>\n",
    "\n",
    "\n",
    "**Jupyter Notebook** is an interactive development environment that enables the creation of code in Python (and other programming languages) in a dynamic and integrated manner. It combines **code blocks**, **text**, and **images** in a single document, which is a departure from the traditional notion of programming. This approach, known as **literate programming**, prioritizes **readability** and **understandability** by separating code blocks and integrating text and figures. Additionally, it allows for convenient research and sharing of data and results.\n",
    "\n",
    "We have took all these advantage of Jupyter Notebook to create this practical guide.\n",
    "\n",
    "### Jupyter Notebook menu\n",
    "To use the document, there is a set of useful buttons:\n",
    "\n",
    "<i class=\"fa fa-save\"></i> saves changes made to the document<br>\n",
    "<i class=\"fa fa-plus\"></i> adds a new cell below the selected one<br>\n",
    "<i class=\"fa fa-scissors\"></i> cuts the selected cell<br>\n",
    "<i class=\"fa fa-copy\"></i> copies the selected cell<br>\n",
    "<i class=\"fa fa-paste\"></i> pastes the cell from the clipboard<br>\n",
    "<i class=\"fa fa-play\"></i> runs the selected cell. For code cells, the code will be executed, and for Markdown cells, the format will be applied<br>\n",
    "<i class=\"fa fa-stop\"></i> interrupts the execution of the selected cell<br>\n",
    "<i class=\"fa fa-repeat\"></i> clears the variables that were saved until that moment<br>\n",
    "<i class=\"fa fa-forward\"></i> clears the variables that were saved until that moment and runs the entire document from the beginning<br>\n",
    "\n",
    "<hr>"
   ]
  },
  {
   "cell_type": "markdown",
   "metadata": {
    "colab": {
     "base_uri": "https://localhost:8080/"
    },
    "id": "yGhSQHaNUcJI",
    "outputId": "7dc0c0b3-d5e4-4815-9f5a-651078ce77aa"
   },
   "source": [
    "\n",
    "\n",
    "# 0. Getting ready\n"
   ]
  },
  {
   "attachments": {},
   "cell_type": "markdown",
   "metadata": {},
   "source": [
    "## 0.1 Run the `docker` image (from the JupyterLab)\n",
    "\n",
    "<img style=\"padding: 0 15px; float: right;\" src=\"https://1000logos.net/wp-content/uploads/2021/11/Docker-Logo-2013.png\" width = 20%></img>\n",
    "\n",
    "In this practical, we will be working within a <code>docker</code>  container. A <code>docker</code>  container is a self-contained executable package of software that includes everything necessary to run applications. All of the programs, libraries, and dependencies required for the practical have been included within the container.\n",
    "\n",
    "<br>\n",
    "<div style=\"background-color:#86CBBB;\">  \n",
    "    <b><i class=\"fa fa-cogs\"></i> To execute the <code>docker</code> container, open a terminal in the <code>practical</code> folder and execute:</b>\n",
    "</div>\n",
    "<div style=\"background-color:#222D32;\"><code style=\"background-color:#222D32;color:#FFF\">\n",
    "  docker run -it --rm -v $(pwd):/work -w /work workshop/curation\n",
    "  </code>\n",
    "  \n",
    "</div>\n",
    "\n",
    "Now, you'll see that the prompt of the console has changed:\n",
    "\n",
    "<code style=\"background-color:#222D32;color:#FFF\">(base) (dfam-tetools /work)#:</code><br>\n",
    "\n",
    "This indicates that we are in the `home` directory with the docker container loaded. You are ready to start the practical!\n",
    "\n",
    "You can always check in which directory you're located by running `pwd` (*print working directory*):\n",
    "\n",
    "</div>\n",
    "<div style=\"background-color:#222D32; color:#FFF\">\n",
    "    <code style=\"background-color:#222D32;color:#FFF\">(base) (dfam-tetools /work)#: pwd</code>  \n",
    "    \n",
    "</div>\n",
    "\n",
    "</div>\n",
    "<br>\n",
    "\n",
    "\n"
   ]
  },
  {
   "attachments": {},
   "cell_type": "markdown",
   "metadata": {},
   "source": [
    "## 0.2 Prepare the test data (genome subset)\n",
    "\n",
    "Since using real genomes is time-consuming, we will be using a small region of the *D. melanogaster* genome just to learn how to apply the commands. \n",
    "\n",
    "<br>\n",
    "<div style=\"background-color:#86CBBB;\">  \n",
    "    <b><i class=\"fa fa-cogs\"></i> To download the genome subset, execute:</b>\n",
    "</div>\n",
    "<div style=\"background-color:#222D32;\"><code style=\"background-color:#222D32;color:#FFF\">\n",
    "  mkdir -p /work/DATA/genome_subset/\n",
    "  wget https://bioinfohub2.uv.es/d_melanogaster_subset.fa -O /work/DATA/genome_subset/d_melanogaster.fa\n",
    "  </code>\n",
    "  \n",
    "</div>\n",
    "\n",
    "\n"
   ]
  },
  {
   "cell_type": "markdown",
   "metadata": {},
   "source": [
    "# 1. Building a *de novo* TE library with RepeatModeler2\n",
    "\n",
    "**RepeatModeler2** (RM2, [Flynn *et al.* 2020](https://www.pnas.org/doi/10.1073/pnas.1921046117)) is a package for generating  reference libraries of transposable elements (TEs) for any eukaryotic species. RM2 utilizes multiple repeat detection tools to identify and assemble TE families within a genome. The resulting TE library is a multi-fasta file that includes a consensus sequence for each putative TE family.\n",
    "\n",
    "####  <i class=\"fa fa-cogs\"></i>  1. Specify the name of the species you selected (in the format `p_troglodytes` if we were working with *Pan troglodytes*, for example):"
   ]
  },
  {
   "cell_type": "code",
   "execution_count": 1,
   "metadata": {},
   "outputs": [],
   "source": [
    "%%bash\n",
    "\n",
    "sp_name=\"d_melanogaster\""
   ]
  },
  {
   "cell_type": "markdown",
   "metadata": {},
   "source": [
    "####  <i class=\"fa fa-cogs\"></i>  2. Build the RM2 database for your genome in a new folder `RepeatModeler2` under the working directory."
   ]
  },
  {
   "cell_type": "code",
   "execution_count": null,
   "metadata": {
    "scrolled": true
   },
   "outputs": [],
   "source": [
    "%%bash\n",
    "\n",
    "mkdir -p /work/practical/RepeatModeler2/${sp_name}\n",
    "cd /work/practical/RepeatModeler2/${sp_name}\n",
    "\n",
    "BuildDatabase -name $sp_name /work/DATA/genome_subset/$sp_name.fa"
   ]
  },
  {
   "cell_type": "markdown",
   "metadata": {},
   "source": [
    "####  <i class=\"fa fa-cogs\"></i>  3. Run RepeatModeler2.\n",
    "\n",
    "We are using options `-pa 16` to increase the number of CPUs used to 16, and module `-LTRStruct` to improve the results for LTR retrotransposons."
   ]
  },
  {
   "cell_type": "code",
   "execution_count": null,
   "metadata": {},
   "outputs": [],
   "source": [
    "%%bash\n",
    "\n",
    "RepeatModeler -database $sp_name -pa 4 -LTRStruct"
   ]
  },
  {
   "attachments": {
    "image-3.png": {
     "image/png": "[encoded data removed]"
    }
   },
   "cell_type": "markdown",
   "metadata": {},
   "source": [
    "<div style=\"background-color:#ffddad;\">  \n",
    "    <i class=\"fa fa-info-circle\"></i> You have to wait between 5 and 20 minutes for RepeatModeler2 to finish. Even with working with a small genome and using 4 CPUs, the program can take a lot of time.\n",
    "</div>\n",
    "\n",
    "RM2 will produce a folder named `RM_...` within the directory with temporal files that can be ignored. The important output files are placed in the `RepeatModeler2` folder:\n",
    "\n",
    "**The outputs of RM2 are**:\n",
    "\n",
    "- A fasta file (`.fa`) with the consensus sequences <i class=\"fa fa-thumbs-up\"></i>.\n",
    "- A stk (`.stk`) with the seed alignments. \n",
    "- A log file (`.log`) with information on the running process of RM2.\n",
    "\n",
    "\n",
    "![image-3.png](attachment:image-3.png)"
   ]
  },
  {
   "cell_type": "markdown",
   "metadata": {},
   "source": [
    "<hr>\n",
    "\n",
    "# 2a. TE library curation using MCHelper\n",
    "\n",
    "The curation of TEs is a highly recommended task before continuing any analysis. In the process of curation, three main steps are performed:\n",
    "1. **Elimination**: the sequences of the RM2 library that do not correspond to TEs will be eliminated\n",
    "2. **Extension**: the TE sequences will be extended to obtain full-length models \n",
    "3. **Redundancy**: redundant TE models of the library will be eliminated\n",
    "\n",
    "In this case we will use the **MCHelper tool** (https://github.com/GonzalezLab/MCHelper) that allows us to do the process automatically.\n",
    "\n",
    "####  <i class=\"fa fa-cogs\"></i>  1. Activate the `conda` environment `MCHelper`."
   ]
  },
  {
   "cell_type": "code",
   "execution_count": 1,
   "metadata": {},
   "outputs": [],
   "source": [
    "%%bash\n",
    "\n",
    "source activate MCHelper"
   ]
  },
  {
   "cell_type": "markdown",
   "metadata": {},
   "source": [
    "####  <i class=\"fa fa-cogs\"></i>  2. Run MCHelper.\n",
    "\n",
    "The parameters are:\n",
    "\n",
    "- `-r`: module of curation: `A` for all three modules (Classified, Extension and Unclassified)\n",
    "- `-a`: level of automation: `F` for fully-automated curation\n",
    "- `--input_type`: format of the library (fasta)\n",
    "- `-l`: path to the library (RM2 output)\n",
    "- `-g`: path to the genome\n",
    "- `-b`: reference/BUSCO genes to filter out TEs\n",
    "- `-o`: name of the output directory\n",
    "- `-c`: minimum number of full-length copies to process an element\n",
    "- `-t`: threads\n",
    "- `-x`: number of iterations to extend the elements\n",
    "\n",
    "<div style=\"background-color:#ffddad;\">  \n",
    "    <i class=\"fa fa-info-circle\"></i> The <code>-x</code> parameter depends on the species and the TE order.\n",
    "</div>\n",
    "\n",
    "We are going to use the subset of the genome and the library produced by RM2. You need to specify the BUSCO filename (check the table to see the one corresponding to your species)."
   ]
  },
  {
   "cell_type": "code",
   "execution_count": null,
   "metadata": {},
   "outputs": [],
   "source": [
    "%%bash\n",
    "\n",
    "mkdir -p /work/practical/MCHelper/${sp_name}\n",
    "cd /work/practical/MCHelper/${sp_name}\n",
    "\n",
    "BUSCO=\"diptera_odb12_ALL.hmm\" # Specify the BUSCO filename\n",
    "\n",
    "python /opt/MCHelper/MCHelper.py \\\n",
    "-r A  \\\n",
    "-a F \\\n",
    "--input_type fasta  \\\n",
    "-l /work/practical/RepeatModeler2/${sp_name}/${sp_name}-families.fa  \\\n",
    "-g /work/DATA/genome_subset/${sp_name}.fa \\\n",
    "-b /work/teammo_data/BUSCO_libs/$BUSCO  \\\n",
    "-o /work/practical/MCHelper/${sp_name} \\\n",
    "-c 1 \\\n",
    "-t 4"
   ]
  },
  {
   "cell_type": "markdown",
   "metadata": {},
   "source": [
    "<div style=\"background-color:#ffddad;\">  \n",
    "    <i class=\"fa fa-info-circle\"></i> You have to wait between 5 and 20 minutes for MCHelper to finish.\n",
    "</div>\n",
    "\n",
    "MCHelper will produce three folders resulting from running the three steps of the curation process. The important file is the one named `curated_sequences_NR.fa`, which contains a non-redundant library of the automatically curated sequences."
   ]
  },
  {
   "attachments": {},
   "cell_type": "markdown",
   "metadata": {},
   "source": [
    "# 2b. TE library curation using MCHelper with TEammo \n",
    "\n",
    "<img style=\"padding: 0 15px; float: right;\" src=\"https://1000logos.net/wp-content/uploads/2021/11/Docker-Logo-2013.png\" width = 20%></img>\n",
    "\n",
    "As a graphic alternative of running RepeatModeler2 and MCHelper, we are going to use TEammo. Run the docker image of TEammo to start the `shiny` application. Check in the presentation your assigned port.\n",
    "\n",
    "<br>\n",
    "<div style=\"background-color:#86CBBB;\">  \n",
    "    <b><i class=\"fa fa-cogs\"></i> To execute the <code>docker</code> container of TEammo, execute:</b>\n",
    "</div>\n",
    "<div style=\"background-color:#222D32;\"><code style=\"background-color:#222D32;color:#FFF\">\n",
    "    port=\"\" # number\n",
    "    docker run -p $port:3002 -v $HOME/teammo_data:/data teammo\n",
    "  </code>\n",
    "  \n",
    "</div>\n",
    "\n",
    "Next, open in the browser: http://bioinfohub2.uv.es:port, for example http://bioinfohub2.uv.es:8097 if port=8097"
   ]
  },
  {
   "cell_type": "markdown",
   "metadata": {},
   "source": [
    "<hr>\n",
    "\n",
    "# 3. Annotate the genome using RepeatMasker and the reference TE library\n",
    "\n",
    "We are going to use **RepeatMasker** ([Smit *et al.* 2013–2015](https://www.repeatmasker.org)), an homology-based method, to identify and quantify TE insertions in the genome of our species using the standard TE library. \n",
    "\n",
    "####  <i class=\"fa fa-cogs\"></i>  1. Run `RepeatMasker`. \n",
    "\n",
    "These are the arguments:\n",
    "\n",
    "- `-pa`: number of CPU\n",
    "- `-a`: shows the alignments in a .align output file \n",
    "- `-s`: \"slow\" search mode (recommended)\n",
    "- `-gff`: produces a gff file\n",
    "- `-no_is`: don't look for insertion sequences (prokaryotic TE)\n",
    "\n",
    "<div style=\"background-color:#ffddad;\">  \n",
    "    <i class=\"fa fa-info-circle\"></i> RepeatMasker can take from minutes to days to complete depending on the genome size and TE content. For larger genomes (such as human genome), it is highly recommended to split RepeatMasker runs per chromosome and take advantage of parallelization when possible.\n",
    "</div>"
   ]
  },
  {
   "cell_type": "code",
   "execution_count": null,
   "metadata": {},
   "outputs": [],
   "source": [
    "%%bash\n",
    "\n",
    "mkdir -p /work/practical/RepeatMasker/${sp_name}\n",
    "# HACE FALTA SUBIR LA CARPETA DATA/REFERENCE TEs!!! O usar una librería curada en el workshop\n",
    "RepeatMasker -pa 4 -s -a -gff -no_is \\\n",
    "-lib /work/DATA/reference_TE/${sp_name}.transposons.fa \\\n",
    "/work/DATA/genome_subset/${sp_name}.fa \\\n",
    "-dir /work/practical/RepeatMasker/${sp_name}/"
   ]
  },
  {
   "attachments": {
    "image-5.png": {
     "image/png": "[encoded data removed]"
    }
   },
   "cell_type": "markdown",
   "metadata": {},
   "source": [
    "The outputs of RepeatMasker are named with the prefix `sp_name.fa.*`:\n",
    "\n",
    "![image-5.png](attachment:image-5.png)\n",
    "\n",
    "- `sp_name.fa.out`: main RepeatMasker output, this is a table with a 3 lines header. It gives the genomic coordinates of TE hits on the genome.\n",
    "- `sp_name.fa.out.gff`: gff version of `.out` file\n",
    "- `sp_name.fa.masked`: masked version of the genome (`.fasta`), with TE residues marked as \"X\"\n",
    "- `sp_name.fa.tbl`: summary table; this is an informative file to have a quick estimate of the repeat content. The repeat content is broken down by type of elements.\n",
    "- `sp_name.fa.align`: alignment file."
   ]
  },
  {
   "cell_type": "markdown",
   "metadata": {},
   "source": [
    "<hr>\n",
    "\n",
    "# 4. Cleaning the RepeatMasker output with `One code to find them all`\n",
    "\n",
    "The results generated by RepeatMasker require some additional processing before analysis. We will use `One code to find them all` ([Bailly-Bechet *et al.* 2014](https://mobilednajournal.biomedcentral.com/articles/10.1186/1759-8753-5-13)) to refine the results. As previously mentioned, RepeatMasker generates multiple files, and it can be challenging to identify and differentiate between the different copies of TEs present in the genome. `One code to find them all` is a perl tool that parses the RepeatMasker output file and helps to determine the number and positions of TE copies in the genome. It also calculates quantitative information for different families of TEs.\n",
    "\n",
    "\n",
    "####  <i class=\"fa fa-cogs\"></i>  1. Build the dictionary. \n",
    "\n",
    "The first step is to build a dictionary of the correspondences between LTR subparts of LTR retrotransposons and internal subparts.\n",
    "\n",
    "The parameters are:\n",
    "- `-rm`: filename of the RepeatMasker output (`.out` file).\n",
    "- `-unknown`: this argument indicates that the RepeatMasker output file may contain transposons of \"Unknown\" class/family to handle them accordingly."
   ]
  },
  {
   "cell_type": "code",
   "execution_count": null,
   "metadata": {},
   "outputs": [],
   "source": [
    "%%bash\n",
    "\n",
    "perl /work/tools/Onecodetofindthemall/build_dictionary.pl \\\n",
    "--rm /work/practical/RepeatMasker/${sp_name}/${sp_name}.fa.out \\\n",
    "--unknown > /work/practical/RepeatMasker/${sp_name}/dictionary"
   ]
  },
  {
   "cell_type": "markdown",
   "metadata": {},
   "source": [
    "\n",
    "####  <i class=\"fa fa-cogs\"></i>  2. Run `One code to find them all`. \n",
    "\n",
    "Next, we can run `One code to find them all` with the dictionary we just build in the prior step. \n",
    "\n",
    "The parameters are:\n",
    "- `-rm`: filename of the RepeatMasker output (`.out` file).\n",
    "- `-ltr`: indicates the code to run with the list of internal/LTR pairs indicated in the dictionary.\n",
    "- `-strict`: activates the 80-80-80 rule (sequences that align with the reference on more than 80 bp, on more than 80% of their respective length, and with more than 80% of identity)\n",
    "- `-unknown`: this argument indicates that the RepeatMasker output file may contain transposons of \"Unknown\" class/family to handle them accordingly.\n"
   ]
  },
  {
   "cell_type": "code",
   "execution_count": null,
   "metadata": {},
   "outputs": [],
   "source": [
    "%%bash\n",
    "\n",
    "perl /work/tools/Onecodetofindthemall/one_code_to_find_them_all.pl \\\n",
    "--rm /work/practical/RepeatMasker/${sp_name}/${sp_name}.fa.out \\\n",
    "--ltr /work/practical/RepeatMasker/${sp_name}/dictionary \\\n",
    "--strict \\\n",
    "--unknown "
   ]
  },
  {
   "attachments": {
    "image.png": {
     "image/png": "[encoded data removed]"
    }
   },
   "cell_type": "markdown",
   "metadata": {},
   "source": [
    "The program will produce the following files:\n",
    "\n",
    "![image.png](attachment:image.png)\n",
    "\n",
    "And the following ones are the most interesting:\n",
    "- `sp_name.fa.transposons.csv` and `sp_name.fa.ltr.csv`:  the copies found, respectively for non-LTR retrotransposons and for LTR retrotransposons \n",
    "- `sp_name.fa.elem_sorted.csv`: contains the same information as the two files, but elements are sorted by position and not by family <i class=\"fa fa-thumbs-up\"></i>\n",
    "- `sp_name.fa.copynumber.csv`: contains a summary of the number of fragments and copies found for each element"
   ]
  },
  {
   "attachments": {
    "image-2.png": {
     "image/png": "[encoded data removed]"
    }
   },
   "cell_type": "markdown",
   "metadata": {},
   "source": [
    "<hr>\n",
    "\n",
    "# 5. Are TE insertions nearby genes?\n",
    "\n",
    "Now that we know where are the TE insertions located in the genome, we can intersect the TE coordinates with genes of the genome to know if they are inserted nearby or within genes. For that, we can use `bedtools window` ([Quinlan *et al.* 2010](https://academic.oup.com/bioinformatics/article/26/6/841/244688)), that by default will find overlaps 1000 bp upstream and downstream of each feature and `bedtools intersect`, that will find overlaps within the gene:\n",
    "\n",
    "![image-2.png](attachment:image-2.png)"
   ]
  },
  {
   "cell_type": "markdown",
   "metadata": {},
   "source": [
    "####  <i class=\"fa fa-cogs\"></i> Run `bedtools`. \n"
   ]
  },
  {
   "cell_type": "code",
   "execution_count": null,
   "metadata": {},
   "outputs": [],
   "source": [
    "%%bash\n",
    "\n",
    "source activate MCHelper\n",
    "\n",
    "#  Bedtools window\n",
    "bedtools window -a /work/DATA/genes/${sp_name}.gff.gz -b /work/practical/RepeatMasker/${sp_name}/${sp_name}.element_sorted.gff \\\n",
    " > /work/practical/RepeatMasker/${sp_name}/${sp_name}.window.gff\n",
    "\n",
    "#  Bedtools intersect\n",
    "bedtools intersect -a /work/DATA/genes/${sp_name}.gff.gz -b /work/practical/RepeatMasker/${sp_name}/${sp_name}.element_sorted.gff \\\n",
    " > /work/practical/RepeatMasker/${sp_name}/${sp_name}.intersect.gff"
   ]
  },
  {
   "cell_type": "markdown",
   "metadata": {},
   "source": [
    "<hr>\n",
    "\n",
    "# 6. Visualize the results in a genome browser\n"
   ]
  },
  {
   "cell_type": "markdown",
   "metadata": {},
   "source": [
    "For creating a genome browser we are going to use the JBrowse 2 platform ([Diesh *et al.* 2022](https://www.biorxiv.org/content/10.1101/2022.07.28.501447v1)). It will allow us to visualize the genome, together with the gene annotations and TE annotations that have been produced in this practical."
   ]
  },
  {
   "cell_type": "markdown",
   "metadata": {},
   "source": [
    "To install JBrowse 2 we run the following commands:\n"
   ]
  },
  {
   "cell_type": "code",
   "execution_count": null,
   "metadata": {},
   "outputs": [],
   "source": [
    "%%bash\n",
    "\n",
    "source activate browser\n",
    "\n",
    "npm install -g @jbrowse/cli\n",
    "\n",
    "jbrowse create /work/practical/jbrowse2\n",
    "\n",
    "npx serve  /work/practical/jbrowse2"
   ]
  },
  {
   "cell_type": "markdown",
   "metadata": {},
   "source": [
    "####  <i class=\"fa fa-cogs\"></i>  1. Loading the fasta file. \n",
    "To use the genome, we need first to create an index with `samtools`:"
   ]
  },
  {
   "cell_type": "code",
   "execution_count": null,
   "metadata": {},
   "outputs": [],
   "source": [
    "%%bash\n",
    "\n",
    "samtools faidx /work/DATA/genome_full/${sp_name}.fa.gz"
   ]
  },
  {
   "cell_type": "markdown",
   "metadata": {},
   "source": [
    "And next, add the assembly the it to the browse installation using the `add-assembly` function:"
   ]
  },
  {
   "cell_type": "code",
   "execution_count": null,
   "metadata": {},
   "outputs": [],
   "source": [
    "%%bash\n",
    "\n",
    "jbrowse add-assembly /work/DATA/genome_full/${sp_name}.fa.gz \\\n",
    "--load copy --name \"${sp_name}\" --displayName \"${sp_name}\" --out /work/practical/jbrowse2"
   ]
  },
  {
   "cell_type": "markdown",
   "metadata": {},
   "source": [
    "####  <i class=\"fa fa-cogs\"></i>  2. Loading annotations: TE and genes.\n",
    "\n",
    "You can add tracks with the following syntax:\n",
    "\n",
    "`jbrowse add-track filename.gff.gz --load copy --out /work/practical/jbrowse2\n",
    "--assemblyNames \"${sp_name}\" --name \"name\" --category \"name\"`\n",
    "\n",
    "You can run the code twice, one for adding the TE annotation (`.element_sorted.gff`) and another for the gene annotation (`.gff.gz`).\n",
    "\n",
    "<br>"
   ]
  },
  {
   "cell_type": "code",
   "execution_count": null,
   "metadata": {},
   "outputs": [],
   "source": [
    "%%bash\n"
   ]
  },
  {
   "cell_type": "markdown",
   "metadata": {},
   "source": [
    "####  <i class=\"fa fa-cogs\"></i>  3. Index the ID names to allow browing by gene and TE names\n",
    "\n",
    "You can index the ID names with the following command:\n",
    "\n",
    "`jbrowse text-index --attributes=gene_id,gene_symbol,Name,ID --exclude=mRNA,CDS,exon,five_prime_UTR,three_prime_UTR --force \n",
    "`\n",
    "\n",
    "This will allow to use the search bar to look for gene names. You need to be located within the jbrowse2 folder."
   ]
  },
  {
   "cell_type": "markdown",
   "metadata": {},
   "source": [
    "####  <i class=\"fa fa-cogs\"></i>  4. Open JBrowse2 and browse your annotation.\n",
    "\n",
    "Use the command `npx serve /work/practical/jbrowse2`.\n",
    "\n",
    "In the window, go to *Start a new session* > *Empty* and launch view of a linear genome view. Click *Open* to show the whole assembly and select the tracks that you have provided."
   ]
  },
  {
   "cell_type": "markdown",
   "metadata": {},
   "source": [
    "\n",
    "<div style=\"background-color:#ffddad;\">  \n",
    "    <i class=\"fa fa-warning\"></i> It is not possible to open the browser session from the JupyterLab. You can compress the jbrowse directory and download it to your local computer, and install <code>Node JS</code> to use the previous command: <a href=\"https://jbrowse.org/jb2/docs/quickstart_web/\">https://jbrowse.org/jb2/docs/quickstart_web/</a>.\n",
    "</div>"
   ]
  },
  {
   "cell_type": "markdown",
   "metadata": {},
   "source": [
    "<hr>\n",
    "\n",
    "# More resources\n",
    "\n",
    "In this practical, we have implemented the critical steps for the *de novo* identification and annotation of TEs, including (i) the creation of a *de novo* TE library; (ii) its curation; (iii) the annotation of the TEs in a genome; and (iv) initial downstream analysis of the TEs annotated using state-of-the-art tools.\n",
    "\n",
    "There are more tools to work with TEs that are outside the scope of this practical session, but many of them can be found listed in the **TE Hub** repeat tools web page, in case that you want to learn more: https://tehub.org/en/resources/repeat_tools. This is a reference web page that compiles a list of tools to detect, annotate, simulate, visualize TE and repeat elements, among others. As for September 2024, it compiles more than 600 different tools!\n",
    "\n",
    "**TE Hub** also offers some tutorials to explore some of this tools more in depth: https://tehub.org/en/Tutorials. "
   ]
  }
 ],
 "metadata": {
  "colab": {
   "provenance": []
  },
  "kernelspec": {
   "display_name": "Python 3 (ipykernel)",
   "language": "python",
   "name": "python3"
  },
  "language_info": {
   "codemirror_mode": {
    "name": "ipython",
    "version": 3
   },
   "file_extension": ".py",
   "mimetype": "text/x-python",
   "name": "python",
   "nbconvert_exporter": "python",
   "pygments_lexer": "ipython3",
   "version": "3.12.3"
  }
 },
 "nbformat": 4,
 "nbformat_minor": 4
}
